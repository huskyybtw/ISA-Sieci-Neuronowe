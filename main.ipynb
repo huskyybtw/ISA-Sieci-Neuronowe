{
 "cells": [
  {
   "cell_type": "code",
   "execution_count": 23,
   "metadata": {},
   "outputs": [],
   "source": [
    "import tensorflow as tf\n",
    "from tensorflow.keras import layers, models\n",
    "from tensorflow.keras.preprocessing.image import ImageDataGenerator\n",
    "from tensorflow.keras.models import load_model\n",
    "\n",
    "import matplotlib.pyplot as plt\n",
    "\n",
    "import datetime\n",
    "import os"
   ]
  },
  {
   "cell_type": "code",
   "execution_count": 24,
   "metadata": {},
   "outputs": [],
   "source": [
    "IMG_SIZE = 128\n",
    "BATCH_SIZE = 32"
   ]
  },
  {
   "cell_type": "code",
   "execution_count": null,
   "metadata": {},
   "outputs": [],
   "source": [
    "train_datagen = ImageDataGenerator(\n",
    "    rescale=1./255,         \n",
    "    validation_split=0.2      \n",
    ")\n",
    "\n",
    "train_generator = train_datagen.flow_from_directory(\n",
    "    'raw-img',           \n",
    "    target_size=(IMG_SIZE, IMG_SIZE),     \n",
    "    batch_size=BATCH_SIZE,            \n",
    "    class_mode='categorical',      \n",
    "    subset='training'         \n",
    ")\n",
    "\n",
    "validation_generator = train_datagen.flow_from_directory(\n",
    "    'raw-img',          \n",
    "    target_size=(IMG_SIZE, IMG_SIZE),\n",
    "    batch_size=BATCH_SIZE,\n",
    "    class_mode='categorical',\n",
    "    subset='validation'   \n",
    ")"
   ]
  },
  {
   "cell_type": "code",
   "execution_count": 26,
   "metadata": {},
   "outputs": [],
   "source": [
    "def build_model(filtersList, denseUnits, shape, activation):\n",
    "    \n",
    "    model = models.Sequential()\n",
    "    \n",
    "    for i, filters in enumerate(filtersList):\n",
    "        if i == 0:\n",
    "            model.add(layers.Conv2D(filters, (3, 3), activation=activation, input_shape=shape, padding='same'))\n",
    "        else:\n",
    "            model.add(layers.Conv2D(filters, (3, 3), activation=activation, padding='same'))\n",
    "        model.add(layers.MaxPooling2D((2, 2)))\n",
    "\n",
    "    model.add(layers.Flatten())\n",
    "    \n",
    "    for dense_units in denseUnits:\n",
    "        model.add(layers.Dense(dense_units, activation=activation))\n",
    "    \n",
    "    model.add(layers.Dense(3, activation='softmax'))\n",
    "\n",
    "    model.compile(optimizer='adam',\n",
    "              loss='categorical_crossentropy',\n",
    "              metrics=['accuracy'])\n",
    "    \n",
    "    return model\n"
   ]
  },
  {
   "cell_type": "code",
   "execution_count": 27,
   "metadata": {},
   "outputs": [],
   "source": [
    "TrainingModels = []\n",
    "Repetitions = 5\n",
    "EpochList = [10, 15, 20, 25]\n",
    "\n",
    "TrainingModels.append(build_model([2, 4, 8, 16, 32, 64, 128], [512, 256, 128, 64, 32, 16, 8, 4], (IMG_SIZE, IMG_SIZE, 3), 'relu'))\n",
    "TrainingModels.append(build_model([2, 4, 8, 16, 32, 64, 128], [256, 128, 64, 32, 16, 8, 4], (IMG_SIZE, IMG_SIZE, 3), 'relu'))\n",
    "TrainingModels.append(build_model([2, 4, 8, 16, 32, 64, 128], [128, 64, 32, 16, 8, 4], (IMG_SIZE, IMG_SIZE, 3), 'relu'))\n",
    "TrainingModels.append(build_model([2, 4, 8, 16, 32, 64, 128], [64, 32, 16, 8, 4], (IMG_SIZE, IMG_SIZE, 3), 'relu'))\n",
    "TrainingModels.append(build_model([2, 4, 8, 16, 32, 64, 128], [32, 16, 8, 4], (IMG_SIZE, IMG_SIZE, 3), 'relu'))\n",
    "\n",
    "TrainingModels.append(build_model([2, 4, 8, 16, 32, 64], [128, 64, 32, 16, 8, 4], (IMG_SIZE, IMG_SIZE, 3), 'relu'))\n",
    "TrainingModels.append(build_model([2, 4, 8, 16, 32], [128, 64, 32, 16, 8, 4], (IMG_SIZE, IMG_SIZE, 3), 'relu'))\n",
    "TrainingModels.append(build_model([2, 4, 8, 16], [128, 64, 32, 16, 8, 4], (IMG_SIZE, IMG_SIZE, 3), 'relu'))\n"
   ]
  },
  {
   "cell_type": "code",
   "execution_count": null,
   "metadata": {},
   "outputs": [],
   "source": [
    "log_path = './training_log.txt'\n",
    "\n",
    "if not os.path.exists(log_path):\n",
    "    with open(log_path, 'w') as log_file:\n",
    "        log_file.write(\"Timestamp,Model,Epochs,Repetition,Validation Loss,Validation Accuracy\\n\")\n",
    "\n",
    "# Loop through training configurations\n",
    "for model_index, model in enumerate(TrainingModels):\n",
    "    for epoch in EpochList:\n",
    "        for repetition in range(1, Repetitions + 1):\n",
    "            print(f\"Training Model {model_index + 1}, Epochs: {epoch}, Repetition: {repetition}\")\n",
    "\n",
    "            # Train the model\n",
    "            history = model.fit(\n",
    "                train_generator,\n",
    "                validation_data=validation_generator,\n",
    "                epochs=epoch,\n",
    "                verbose=1  # Show progress\n",
    "            )\n",
    "\n",
    "            # Generate a timestamp\n",
    "            timestamp = datetime.datetime.now().strftime(\"%Y%m%d_%H%M%S\")\n",
    "\n",
    "            # Evaluate the model\n",
    "            validation_metrics = model.evaluate(validation_generator, verbose=1)\n",
    "            val_loss, val_accuracy = validation_metrics[0], validation_metrics[1]\n",
    "\n",
    "            # Save the model with timestamp\n",
    "            model_path = f'./models/model_{model_index + 1}_epochs_{epoch}_rep_{repetition}_{timestamp}.keras'\n",
    "            model.save(model_path)\n",
    "            print(f\"Model saved at {model_path}\")\n",
    "\n",
    "            # Log the results\n",
    "            with open(log_path, 'a') as log_file:\n",
    "                log_file.write(f\"{timestamp},Model_{model_index + 1},{epoch},{repetition},{val_loss:.4f},{val_accuracy:.4f}\\n\")\n",
    "\n",
    "            print(f\"Logged results: Loss = {val_loss:.4f}, Accuracy = {val_accuracy:.4f}\\n\")"
   ]
  }
 ],
 "metadata": {
  "kernelspec": {
   "display_name": "Python 3",
   "language": "python",
   "name": "python3"
  },
  "language_info": {
   "codemirror_mode": {
    "name": "ipython",
    "version": 3
   },
   "file_extension": ".py",
   "mimetype": "text/x-python",
   "name": "python",
   "nbconvert_exporter": "python",
   "pygments_lexer": "ipython3",
   "version": "3.12.6"
  }
 },
 "nbformat": 4,
 "nbformat_minor": 2
}
